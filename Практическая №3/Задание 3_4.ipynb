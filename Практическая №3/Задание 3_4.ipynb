{
 "cells": [
  {
   "cell_type": "code",
   "execution_count": 1,
   "metadata": {},
   "outputs": [
    {
     "name": "stdout",
     "output_type": "stream",
     "text": [
      "{1: 15, 'abc': 'defdef', 0: [1, 2, 3], (0, 1): 'a'}\n"
     ]
    }
   ],
   "source": [
    "my_dict = {}\n",
    "my_dict[1] = 10\n",
    "my_dict[\"abc\"] = \"def\"\n",
    "my_dict[0] = [0, 1, 2]\n",
    "my_dict[(0, 1)] = \"a\"\n",
    "my_dict[1] += 5\n",
    "my_dict[\"abc\"] += \"def\"\n",
    "my_dict[0].append(3)\n",
    "my_dict[0].pop(0)\n",
    "print(my_dict)\n"
   ]
  }
 ],
 "metadata": {
  "kernelspec": {
   "display_name": "Python 3",
   "language": "python",
   "name": "python3"
  },
  "language_info": {
   "codemirror_mode": {
    "name": "ipython",
    "version": 3
   },
   "file_extension": ".py",
   "mimetype": "text/x-python",
   "name": "python",
   "nbconvert_exporter": "python",
   "pygments_lexer": "ipython3",
   "version": "3.7.6"
  }
 },
 "nbformat": 4,
 "nbformat_minor": 2
}
