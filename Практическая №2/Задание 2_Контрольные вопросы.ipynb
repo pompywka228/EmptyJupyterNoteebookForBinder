{
 "cells": [
  {
   "cell_type": "code",
   "execution_count": 7,
   "metadata": {},
   "outputs": [
    {
     "name": "stdout",
     "output_type": "stream",
     "text": [
      "39916800\n"
     ]
    }
   ],
   "source": [
    "def fact(n): \n",
    "    x = 1\n",
    "    if n > 1:\n",
    "        x = n * fact(n - 1)\n",
    "    return x\n",
    "n = 11\n",
    "print(fact(n))"
   ]
  },
  {
   "cell_type": "code",
   "execution_count": 14,
   "metadata": {},
   "outputs": [
    {
     "name": "stdout",
     "output_type": "stream",
     "text": [
      "Число  0  -  Не является простым \n",
      "\n",
      "Число  1  -  Не является простым \n",
      "\n",
      "Число  2  -  Простое \n",
      "\n",
      "Число  3  -  Простое \n",
      "\n",
      "Число  4  -  Не является простым \n",
      "\n",
      "Число  5  -  Простое \n",
      "\n",
      "Число  6  -  Не является простым \n",
      "\n",
      "Число  7  -  Простое \n",
      "\n",
      "Число  8  -  Не является простым \n",
      "\n",
      "Число  9  -  Не является простым \n",
      "\n",
      "Число  10  -  Не является простым \n",
      "\n",
      "Число  11  -  Простое \n",
      "\n",
      "Число  12  -  Не является простым \n",
      "\n",
      "Число  13  -  Простое \n",
      "\n",
      "Число  14  -  Не является простым \n",
      "\n",
      "Число  15  -  Не является простым \n",
      "\n",
      "Число  16  -  Не является простым \n",
      "\n",
      "Число  17  -  Простое \n",
      "\n",
      "Число  18  -  Не является простым \n",
      "\n",
      "Число  19  -  Простое \n",
      "\n"
     ]
    }
   ],
   "source": [
    "def if_prime(p):\n",
    "    f = \"Простое\"\n",
    "    if p <= 1:\n",
    "        f = \"Не является простым\"\n",
    "    else:\n",
    "        for i in range(2,p,1):\n",
    "            if p % i == 0:\n",
    "                f = \"Не является простым\"\n",
    "    return f\n",
    "p = [0,1,2,3,4,5,6,7,8,9,10,11,12,13,14,15,16,17,18,19]\n",
    "for i in p:\n",
    "    print('Число ', i, ' - ', if_prime(i), '\\n')\n",
    "        "
   ]
  },
  {
   "cell_type": "code",
   "execution_count": null,
   "metadata": {},
   "outputs": [],
   "source": []
  }
 ],
 "metadata": {
  "kernelspec": {
   "display_name": "Python 3",
   "language": "python",
   "name": "python3"
  },
  "language_info": {
   "codemirror_mode": {
    "name": "ipython",
    "version": 3
   },
   "file_extension": ".py",
   "mimetype": "text/x-python",
   "name": "python",
   "nbconvert_exporter": "python",
   "pygments_lexer": "ipython3",
   "version": "3.7.6"
  }
 },
 "nbformat": 4,
 "nbformat_minor": 2
}
