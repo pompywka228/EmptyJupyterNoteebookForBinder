{
 "cells": [
  {
   "cell_type": "code",
   "execution_count": 4,
   "metadata": {},
   "outputs": [
    {
     "name": "stdout",
     "output_type": "stream",
     "text": [
      "Сумма =  35\n",
      "Разность =  -15\n",
      "Произвдние =  250\n",
      "Частное =  0.4\n",
      "Значение выражения =  4.918032786885246\n"
     ]
    }
   ],
   "source": [
    "x=10\n",
    "y=25\n",
    "print(\"Сумма = \", x+y)\n",
    "print(\"Разность = \", x-y)\n",
    "print(\"Произвдние = \", x*y)\n",
    "print(\"Частное = \", x/y)\n",
    "print(\"Значение выражения = \",((x**2+y)*(y-1))/(x-y+y**2))"
   ]
  },
  {
   "cell_type": "code",
   "execution_count": null,
   "metadata": {},
   "outputs": [],
   "source": []
  }
 ],
 "metadata": {
  "kernelspec": {
   "display_name": "Python 3",
   "language": "python",
   "name": "python3"
  },
  "language_info": {
   "codemirror_mode": {
    "name": "ipython",
    "version": 3
   },
   "file_extension": ".py",
   "mimetype": "text/x-python",
   "name": "python",
   "nbconvert_exporter": "python",
   "pygments_lexer": "ipython3",
   "version": "3.7.6"
  }
 },
 "nbformat": 4,
 "nbformat_minor": 2
}
