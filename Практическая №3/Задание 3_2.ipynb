{
 "cells": [
  {
   "cell_type": "code",
   "execution_count": 1,
   "metadata": {},
   "outputs": [
    {
     "name": "stdout",
     "output_type": "stream",
     "text": [
      "(1, 2, 3, 4, 5, 6, 7, 8, 9, 10, 11, 12, 13, 14, 15, 16, 17, 18, 19, 20) \n",
      "\n",
      "(5, 6, 7, 8, 9, 10, 11, 12, 13, 14, 15) \n",
      "\n",
      "(14, 15, 16, 17, 18, 19, 20) \n",
      "\n",
      "(7, 9, 11, 13) \n",
      "\n"
     ]
    }
   ],
   "source": [
    "my_list = []\n",
    "for i in range(1,21,1):\n",
    "    my_list.append(i)\n",
    "tuple_1 = tuple(my_list)\n",
    "tuple_2 = tuple_1[4:15:1]\n",
    "tuple_3 = tuple_1[-7:]\n",
    "tuple_4 = tuple_1[6:13:2]\n",
    "print(tuple_1, \"\\n\")\n",
    "print(tuple_2, \"\\n\")\n",
    "print(tuple_3, \"\\n\")\n",
    "print(tuple_4, \"\\n\")"
   ]
  }
 ],
 "metadata": {
  "kernelspec": {
   "display_name": "Python 3",
   "language": "python",
   "name": "python3"
  },
  "language_info": {
   "codemirror_mode": {
    "name": "ipython",
    "version": 3
   },
   "file_extension": ".py",
   "mimetype": "text/x-python",
   "name": "python",
   "nbconvert_exporter": "python",
   "pygments_lexer": "ipython3",
   "version": "3.7.6"
  }
 },
 "nbformat": 4,
 "nbformat_minor": 2
}
