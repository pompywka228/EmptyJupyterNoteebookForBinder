{
 "cells": [
  {
   "cell_type": "code",
   "execution_count": 2,
   "metadata": {},
   "outputs": [
    {
     "name": "stdout",
     "output_type": "stream",
     "text": [
      "['Р', 'о', 'м', 'а', 'н'] \n",
      "\n",
      "['Р', 'а', 'м', 'н', 'о'] \n",
      "\n",
      "['м', 'а', 'н', 'Р', 'а', 'м', 'н', 'о'] \n",
      "\n"
     ]
    }
   ],
   "source": [
    "my_list = list(\"Роман\")\n",
    "my_list2 = my_list.copy()\n",
    "my_list2.sort()\n",
    "my_list3 = my_list + my_list2\n",
    "for i in range(0,3,2):\n",
    "    my_list3.pop(i-i)\n",
    "print(my_list, \"\\n\")\n",
    "print(my_list2, \"\\n\")\n",
    "print(my_list3, \"\\n\")"
   ]
  },
  {
   "cell_type": "code",
   "execution_count": null,
   "metadata": {},
   "outputs": [],
   "source": []
  }
 ],
 "metadata": {
  "kernelspec": {
   "display_name": "Python 3",
   "language": "python",
   "name": "python3"
  },
  "language_info": {
   "codemirror_mode": {
    "name": "ipython",
    "version": 3
   },
   "file_extension": ".py",
   "mimetype": "text/x-python",
   "name": "python",
   "nbconvert_exporter": "python",
   "pygments_lexer": "ipython3",
   "version": "3.7.6"
  }
 },
 "nbformat": 4,
 "nbformat_minor": 2
}
